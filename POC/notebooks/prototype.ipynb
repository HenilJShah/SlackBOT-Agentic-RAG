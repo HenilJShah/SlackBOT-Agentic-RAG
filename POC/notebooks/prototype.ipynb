{
 "cells": [
  {
   "cell_type": "markdown",
   "metadata": {},
   "source": [
    "# Problem Statement\n",
    "\n",
    "Create an AI agent that leverages the capabilities of a large language model. This agent should be able to extract answers based on the content of a large PDF document and post the results on Slack. Ideally, you use OpenAI LLMs. If you use the Langchain or LLama Index framework to implement this agentic functionality, please don’t use pre-built chains for the task. Implement the logic yourself. Please write production grade code as opposed to scripts as we will be evaluating your code quality.\n"
   ]
  },
  {
   "cell_type": "markdown",
   "metadata": {},
   "source": [
    "---\n",
    "\n",
    "# GPU\n"
   ]
  },
  {
   "cell_type": "code",
   "execution_count": 1,
   "metadata": {},
   "outputs": [
    {
     "name": "stdout",
     "output_type": "stream",
     "text": [
      "Thu Sep 12 10:49:29 2024       \n",
      "+-----------------------------------------------------------------------------------------+\n",
      "| NVIDIA-SMI 555.58.02              Driver Version: 555.58.02      CUDA Version: 12.5     |\n",
      "|-----------------------------------------+------------------------+----------------------+\n",
      "| GPU  Name                 Persistence-M | Bus-Id          Disp.A | Volatile Uncorr. ECC |\n",
      "| Fan  Temp   Perf          Pwr:Usage/Cap |           Memory-Usage | GPU-Util  Compute M. |\n",
      "|                                         |                        |               MIG M. |\n",
      "|=========================================+========================+======================|\n",
      "|   0  NVIDIA GeForce RTX 3050 ...    Off |   00000000:01:00.0 Off |                  N/A |\n",
      "| N/A   52C    P8              8W /   35W |      15MiB /   4096MiB |      0%      Default |\n",
      "|                                         |                        |                  N/A |\n",
      "+-----------------------------------------+------------------------+----------------------+\n",
      "                                                                                         \n",
      "+-----------------------------------------------------------------------------------------+\n",
      "| Processes:                                                                              |\n",
      "|  GPU   GI   CI        PID   Type   Process name                              GPU Memory |\n",
      "|        ID   ID                                                               Usage      |\n",
      "|=========================================================================================|\n",
      "|    0   N/A  N/A      2223      G   /usr/lib/xorg/Xorg                              4MiB |\n",
      "+-----------------------------------------------------------------------------------------+\n"
     ]
    }
   ],
   "source": [
    "!nvidia-smi"
   ]
  },
  {
   "cell_type": "code",
   "execution_count": 2,
   "metadata": {},
   "outputs": [
    {
     "name": "stdout",
     "output_type": "stream",
     "text": [
      "nvcc: NVIDIA (R) Cuda compiler driver\n",
      "Copyright (c) 2005-2021 NVIDIA Corporation\n",
      "Built on Thu_Nov_18_09:45:30_PST_2021\n",
      "Cuda compilation tools, release 11.5, V11.5.119\n",
      "Build cuda_11.5.r11.5/compiler.30672275_0\n"
     ]
    }
   ],
   "source": [
    "!nvcc -V"
   ]
  },
  {
   "cell_type": "markdown",
   "metadata": {},
   "source": [
    "# POC Setup\n"
   ]
  },
  {
   "cell_type": "code",
   "execution_count": 3,
   "metadata": {},
   "outputs": [
    {
     "name": "stderr",
     "output_type": "stream",
     "text": [
      "/home/deadpool/Templates/interview/zania/z-env/lib/python3.10/site-packages/tqdm/auto.py:21: TqdmWarning: IProgress not found. Please update jupyter and ipywidgets. See https://ipywidgets.readthedocs.io/en/stable/user_install.html\n",
      "  from .autonotebook import tqdm as notebook_tqdm\n"
     ]
    },
    {
     "data": {
      "text/plain": [
       "True"
      ]
     },
     "execution_count": 3,
     "metadata": {},
     "output_type": "execute_result"
    }
   ],
   "source": [
    "import os\n",
    "from langchain.document_loaders import PyMuPDFLoader\n",
    "from langchain.text_splitter import RecursiveCharacterTextSplitter\n",
    "from langchain.embeddings import OpenAIEmbeddings\n",
    "from langchain.vectorstores import Chroma\n",
    "from langchain.docstore.document import Document\n",
    "from langchain_core.output_parsers import JsonOutputParser\n",
    "from pydantic import BaseModel, Field\n",
    "from openai import OpenAI\n",
    "import json\n",
    "from typing import List, Dict\n",
    "from dotenv import load_dotenv\n",
    "\n",
    "from transformers.agents import Tool, ReactJsonAgent\n",
    "\n",
    "load_dotenv()"
   ]
  },
  {
   "cell_type": "code",
   "execution_count": 4,
   "metadata": {},
   "outputs": [
    {
     "name": "stdout",
     "output_type": "stream",
     "text": [
      "API Key loaded successfully!\n"
     ]
    }
   ],
   "source": [
    "api_key = os.getenv(\"OPENAI_API_KEY\")\n",
    "\n",
    "if api_key:\n",
    "    print(\"API Key loaded successfully!\")\n",
    "else:\n",
    "    print(\"API Key not found!\")\n",
    "\n",
    "client = OpenAI(api_key=api_key)"
   ]
  },
  {
   "cell_type": "markdown",
   "metadata": {},
   "source": [
    "### Step: 1. Extract Text from the PDF\n"
   ]
  },
  {
   "cell_type": "code",
   "execution_count": 5,
   "metadata": {},
   "outputs": [],
   "source": [
    "pdf_folder = \"../docs\""
   ]
  },
  {
   "cell_type": "code",
   "execution_count": 6,
   "metadata": {},
   "outputs": [],
   "source": [
    "def load_pdf_files(pdf_folder):\n",
    "    \"\"\"Load PDF files from a folder, return document objects and extracted text.\"\"\"\n",
    "    documents = []\n",
    "    texts = []\n",
    "\n",
    "    for file in os.listdir(pdf_folder):\n",
    "        if file.endswith(\".pdf\"):\n",
    "            pdf_path = os.path.join(pdf_folder, file)\n",
    "            try:\n",
    "                pdf_loader = PyMuPDFLoader(file_path=pdf_path)\n",
    "                pdf_docs = pdf_loader.load()\n",
    "                documents.extend(pdf_docs)\n",
    "                texts.extend([doc.page_content for doc in pdf_docs])\n",
    "            except Exception as e:\n",
    "                print(f\"Error loading {file}: {e}\")\n",
    "\n",
    "    return documents, texts"
   ]
  },
  {
   "cell_type": "code",
   "execution_count": 7,
   "metadata": {},
   "outputs": [],
   "source": [
    "pdf_docs, pdf_texts = load_pdf_files(pdf_folder=pdf_folder)"
   ]
  },
  {
   "cell_type": "markdown",
   "metadata": {},
   "source": [
    "### Step: 2. Extract Text from the PDF\n"
   ]
  },
  {
   "cell_type": "code",
   "execution_count": 8,
   "metadata": {},
   "outputs": [],
   "source": [
    "def split_text_into_chunks(text):\n",
    "    \"\"\"Split the extracted text into chunks using text splitting.\"\"\"\n",
    "    text_splitter = RecursiveCharacterTextSplitter(\n",
    "        chunk_size=1000, chunk_overlap=100, separators=[\"\\n\", \"\\n\\n\"]\n",
    "    )\n",
    "    chunks = text_splitter.split_text(text)\n",
    "    return chunks"
   ]
  },
  {
   "cell_type": "code",
   "execution_count": 9,
   "metadata": {},
   "outputs": [],
   "source": [
    "raw_data = \" \".join(pdf_texts)\n",
    "texts = len(split_text_into_chunks(raw_data))"
   ]
  },
  {
   "cell_type": "code",
   "execution_count": 10,
   "metadata": {},
   "outputs": [],
   "source": [
    "def wrap_text_in_documents(texts):\n",
    "    \"\"\"Wrap each text chunk in a Document object.\"\"\"\n",
    "    documents = [Document(page_content=text) for text in texts]\n",
    "    return documents"
   ]
  },
  {
   "cell_type": "markdown",
   "metadata": {},
   "source": [
    "### Initialize ChromaDB\n",
    "\n",
    "Create embeddings for each chunk and insert into the Chroma vector database.\n"
   ]
  },
  {
   "cell_type": "code",
   "execution_count": 11,
   "metadata": {},
   "outputs": [],
   "source": [
    "documents = wrap_text_in_documents(pdf_texts)"
   ]
  },
  {
   "cell_type": "code",
   "execution_count": 12,
   "metadata": {},
   "outputs": [
    {
     "name": "stderr",
     "output_type": "stream",
     "text": [
      "/tmp/ipykernel_62139/2497576997.py:1: LangChainDeprecationWarning: The class `OpenAIEmbeddings` was deprecated in LangChain 0.0.9 and will be removed in 1.0. An updated version of the class exists in the langchain-openai package and should be used instead. To use it run `pip install -U langchain-openai` and import as `from langchain_openai import OpenAIEmbeddings`.\n",
      "  embeddings = OpenAIEmbeddings()\n"
     ]
    }
   ],
   "source": [
    "embeddings = OpenAIEmbeddings()"
   ]
  },
  {
   "cell_type": "code",
   "execution_count": 13,
   "metadata": {},
   "outputs": [],
   "source": [
    "!rm -rf ../vdb/*"
   ]
  },
  {
   "cell_type": "code",
   "execution_count": 14,
   "metadata": {},
   "outputs": [],
   "source": [
    "vectordb = Chroma.from_documents(documents, embeddings, persist_directory=\"../vdb\")"
   ]
  },
  {
   "cell_type": "code",
   "execution_count": 15,
   "metadata": {},
   "outputs": [
    {
     "data": {
      "text/plain": [
       "46"
      ]
     },
     "execution_count": 15,
     "metadata": {},
     "output_type": "execute_result"
    }
   ],
   "source": [
    "vectordb._collection.count()"
   ]
  },
  {
   "cell_type": "code",
   "execution_count": 16,
   "metadata": {},
   "outputs": [],
   "source": [
    "query = \"What is the name of the company?\""
   ]
  },
  {
   "cell_type": "code",
   "execution_count": 17,
   "metadata": {},
   "outputs": [],
   "source": [
    "context_chunks = vectordb.similarity_search_with_score(query, k=3)"
   ]
  },
  {
   "cell_type": "code",
   "execution_count": 18,
   "metadata": {},
   "outputs": [
    {
     "name": "stdout",
     "output_type": "stream",
     "text": [
      "Closing Statement\n",
      "Thank you for reading our handbook. We hope it has provided you with an understanding of our mission, history, and\n",
      "structure as well as our current policies and guidelines. We look forward to working with you to create a successful\n",
      "Company and a safe, productive, and pleasant workplace.\n",
      "Shruti Gupta, CEO\n",
      "Zania, Inc.\n",
      "45\n",
      "\n"
     ]
    }
   ],
   "source": [
    "print(context_chunks[0][0].page_content)"
   ]
  },
  {
   "cell_type": "markdown",
   "metadata": {},
   "source": [
    "### LLM\n"
   ]
  },
  {
   "cell_type": "markdown",
   "metadata": {},
   "source": [
    "### PromptTemplate\n"
   ]
  },
  {
   "cell_type": "code",
   "execution_count": 19,
   "metadata": {},
   "outputs": [],
   "source": [
    "class AnswerSchema(BaseModel):\n",
    "    question: str = Field(description=\"The question asked\")\n",
    "    answer: str = Field(description=\"The answer extracted from the context\")"
   ]
  },
  {
   "cell_type": "code",
   "execution_count": 20,
   "metadata": {},
   "outputs": [],
   "source": [
    "parser = JsonOutputParser(pydantic_object=AnswerSchema)"
   ]
  },
  {
   "cell_type": "code",
   "execution_count": 21,
   "metadata": {},
   "outputs": [],
   "source": [
    "from langchain.prompts import PromptTemplate\n",
    "\n",
    "# Define the PromptTemplate\n",
    "template = \"\"\"You are a helpful assistant. Use the provided context from the document to answer the question accurately. If the answer is not available, respond with 'Data Not Available'.\n",
    "\n",
    "Context:\n",
    "{context}\n",
    "\n",
    "{format_instructions}\n",
    "\n",
    "Question:\n",
    "{query}\n",
    "\"\"\"\n",
    "\n",
    "# Create the PromptTemplate instance\n",
    "prompt = PromptTemplate(\n",
    "    template=template,\n",
    "    input_variables=[\"context\", \"query\"],\n",
    "    partial_variables={\"format_instructions\": parser.get_format_instructions()},\n",
    ")"
   ]
  },
  {
   "cell_type": "code",
   "execution_count": 22,
   "metadata": {},
   "outputs": [],
   "source": [
    "def get_answer_from_context(query, context_chunks):\n",
    "    # Combine the context into a single string\n",
    "    context = \"\\n\".join([chunk.page_content for chunk, _ in context_chunks])\n",
    "\n",
    "    # Use the prompt template to format the prompt\n",
    "    formatted_prompt = prompt.format(context=context, query=query)\n",
    "\n",
    "    # Get the answer from the OpenAI API\n",
    "    response = client.chat.completions.create(\n",
    "        model=\"gpt-4o-mini\",\n",
    "        response_format={\"type\": \"json_object\"},\n",
    "        messages=[\n",
    "            {\"role\": \"system\", \"content\": \"You are a helpful assistant.\"},\n",
    "            {\"role\": \"user\", \"content\": formatted_prompt},\n",
    "        ],\n",
    "    )\n",
    "\n",
    "    answer = json.dumps(response.choices[0].message.content)\n",
    "    return answer"
   ]
  },
  {
   "cell_type": "code",
   "execution_count": 23,
   "metadata": {},
   "outputs": [],
   "source": [
    "answer = get_answer_from_context(query, context_chunks)"
   ]
  },
  {
   "cell_type": "code",
   "execution_count": 24,
   "metadata": {},
   "outputs": [
    {
     "data": {
      "text/plain": [
       "'\"{\\\\n  \\\\\"question\\\\\": \\\\\"What is the name of the company?\\\\\",\\\\n  \\\\\"answer\\\\\": \\\\\"Zania, Inc.\\\\\"\\\\n}\"'"
      ]
     },
     "execution_count": 24,
     "metadata": {},
     "output_type": "execute_result"
    }
   ],
   "source": [
    "answer"
   ]
  },
  {
   "cell_type": "code",
   "execution_count": 25,
   "metadata": {},
   "outputs": [],
   "source": [
    "def get_answers_for_questions(\n",
    "    questions: List[str], vectordb, k: int = 3\n",
    ") -> Dict[str, str]:\n",
    "    \"\"\"\n",
    "    This method takes a list of questions, performs a similarity search for each question,\n",
    "    and returns a dictionary containing the answers for each question.\n",
    "\n",
    "    Args:\n",
    "        questions (List[str]): A list of questions to answer.\n",
    "        vectordb: The vector database used for similarity search.\n",
    "        k (int): Number of context chunks to retrieve for each question.\n",
    "\n",
    "    Returns:\n",
    "        Dict[str, str]: A dictionary where the keys are questions and values are the answers.\n",
    "    \"\"\"\n",
    "    answers = {}\n",
    "\n",
    "    # Loop through each question\n",
    "    for question in questions:\n",
    "        # Perform a similarity search to get context chunks for the current question\n",
    "        context_chunks = vectordb.similarity_search_with_score(question, k=k)\n",
    "\n",
    "        # Get the answer for the current question using the retrieved context\n",
    "        answer = get_answer_from_context(question, context_chunks)\n",
    "\n",
    "        # Store the answer in the dictionary\n",
    "        answers[question] = answer\n",
    "\n",
    "    return answers"
   ]
  },
  {
   "cell_type": "code",
   "execution_count": 26,
   "metadata": {},
   "outputs": [],
   "source": [
    "questions = [\n",
    "    \"What is the name of the company?\",\n",
    "    \"Who is the CEO of the company?\",\n",
    "    \"What is their vacation policy?\",\n",
    "    \"What is the termination policy?\",\n",
    "]"
   ]
  },
  {
   "cell_type": "code",
   "execution_count": 27,
   "metadata": {},
   "outputs": [],
   "source": [
    "answers = get_answers_for_questions(questions, vectordb)"
   ]
  },
  {
   "cell_type": "markdown",
   "metadata": {},
   "source": [
    "# Traditional RAG Output\n"
   ]
  },
  {
   "cell_type": "code",
   "execution_count": 28,
   "metadata": {},
   "outputs": [
    {
     "name": "stdout",
     "output_type": "stream",
     "text": [
      "======================\n",
      "\n",
      "Question: What is the name of the company?\n",
      "('Answer: \"{\\\\n  \\\\\"question\\\\\": \\\\\"What is the name of the company?\\\\\",\\\\n  '\n",
      " '\\\\\"answer\\\\\": \\\\\"Zania, Inc.\\\\\"\\\\n}\"')\n",
      "======================\n",
      "\n",
      "Question: Who is the CEO of the company?\n",
      "('Answer: \"{\\\\n  \\\\\"question\\\\\": \\\\\"Who is the CEO of the company?\\\\\",\\\\n  '\n",
      " '\\\\\"answer\\\\\": \\\\\"Shruti Gupta\\\\\"\\\\n}\"')\n",
      "======================\n",
      "\n",
      "Question: What is their vacation policy?\n",
      "('Answer: \"{\\\\n  \\\\\"question\\\\\": \\\\\"What is their vacation policy?\\\\\",\\\\n  '\n",
      " '\\\\\"answer\\\\\": \\\\\"Zania, Inc. provides employees with paid vacation. All '\n",
      " 'full-time regular employees are eligible to receive vacation time '\n",
      " 'immediately upon hire. Vacation is calculated according to your work '\n",
      " 'anniversary year, calendar year, or fiscal year. Employees accrue vacation '\n",
      " 'based on their length of service, with amounts varying each year. Vacation '\n",
      " 'granted during the first year will be prorated based on the hire date. '\n",
      " 'Employees must request vacation in advance and must take it in increments of '\n",
      " 'at least a specified duration. Unused vacation may be carried over or '\n",
      " \"forfeited depending on the company's policy. Upon separation of employment, \"\n",
      " 'employees may forfeit or be paid for earned but unused vacation, depending '\n",
      " 'on state law.\\\\\"\\\\n}\"')\n",
      "======================\n",
      "\n",
      "Question: What is the termination policy?\n",
      "('Answer: \"{\\\\n  \\\\\"question\\\\\": \\\\\"What is the termination policy?\\\\\",\\\\n  '\n",
      " '\\\\\"answer\\\\\": \\\\\"This policy is not intended to limit our right to '\n",
      " 'discipline or discharge employees for any reason permitted by law. '\n",
      " 'Inappropriate conduct could result in discipline, up to and including '\n",
      " 'immediate termination of employment. The specific terms of the employment '\n",
      " 'relationship, including termination procedures, are governed by the laws of '\n",
      " 'the state in which you are employed. Progressive discipline may occur, but '\n",
      " 'the Company is not obligated to follow any specific disciplinary or '\n",
      " 'grievance procedure and may terminate employment without prior '\n",
      " 'warning.\\\\\"\\\\n}\"')\n"
     ]
    }
   ],
   "source": [
    "from pprint import pprint\n",
    "\n",
    "for question, answer in answers.items():\n",
    "    print(\"======================\")\n",
    "    print(f\"\\nQuestion: {question}\")\n",
    "    pprint(f\"Answer: {answer}\")"
   ]
  },
  {
   "cell_type": "markdown",
   "metadata": {},
   "source": [
    "---\n"
   ]
  },
  {
   "cell_type": "markdown",
   "metadata": {},
   "source": [
    "# Agentic RAG\n"
   ]
  },
  {
   "cell_type": "code",
   "execution_count": 29,
   "metadata": {},
   "outputs": [],
   "source": [
    "class RetrieverTool(Tool):\n",
    "    name = \"retriever\"\n",
    "    description = \"Using semantic similarity, retrieves some documents from the knowledge base that have the closest embeddings to the input query.\"\n",
    "    inputs = {\n",
    "        \"query\": {\n",
    "            \"type\": \"text\",\n",
    "            \"description\": \"The query to perform. This should be semantically close to your target documents. Use the affirmative form rather than a question.\",\n",
    "        }\n",
    "    }\n",
    "    output_type = \"text\"\n",
    "\n",
    "    def __init__(self, vectordb, **kwargs):\n",
    "        super().__init__(**kwargs)\n",
    "        self.vectordb = vectordb\n",
    "\n",
    "    def forward(self, query: str) -> str:\n",
    "        assert isinstance(query, str), \"Your search query must be a string\"\n",
    "\n",
    "        docs = self.vectordb.similarity_search(\n",
    "            query,\n",
    "            k=7,\n",
    "        )\n",
    "\n",
    "        return \"\\nRetrieved documents:\\n\" + \"\".join(\n",
    "            [\n",
    "                f\"===== Document {str(i)} =====\\n\" + doc.page_content\n",
    "                for i, doc in enumerate(docs)\n",
    "            ]\n",
    "        )\n",
    "\n",
    "\n",
    "# Create an instance of the RetrieverTool\n",
    "retriever_tool = RetrieverTool(vectordb)"
   ]
  },
  {
   "cell_type": "code",
   "execution_count": 30,
   "metadata": {},
   "outputs": [
    {
     "data": {
      "text/plain": [
       "<__main__.RetrieverTool at 0x7d2cfac92980>"
      ]
     },
     "execution_count": 30,
     "metadata": {},
     "output_type": "execute_result"
    }
   ],
   "source": [
    "retriever_tool"
   ]
  },
  {
   "cell_type": "code",
   "execution_count": 31,
   "metadata": {},
   "outputs": [],
   "source": [
    "from transformers.agents.llm_engine import MessageRole, get_clean_message_list\n",
    "\n",
    "\n",
    "openai_role_conversions = {\n",
    "    MessageRole.TOOL_RESPONSE: MessageRole.USER,\n",
    "}\n",
    "\n",
    "\n",
    "class OpenAIEngine:\n",
    "    def __init__(self, model_name=\"gpt-4o-mini\"):\n",
    "        self.model_name = model_name\n",
    "        self.client = client\n",
    "\n",
    "    def __call__(self, messages, stop_sequences=[]):\n",
    "        messages = get_clean_message_list(\n",
    "            messages, role_conversions=openai_role_conversions\n",
    "        )\n",
    "\n",
    "        response = self.client.chat.completions.create(\n",
    "            model=self.model_name,\n",
    "            messages=messages,\n",
    "            stop=stop_sequences,\n",
    "            temperature=0.5,\n",
    "        )\n",
    "        return response.choices[0].message.content"
   ]
  },
  {
   "cell_type": "code",
   "execution_count": 32,
   "metadata": {},
   "outputs": [],
   "source": [
    "llm_engine = OpenAIEngine()"
   ]
  },
  {
   "cell_type": "code",
   "execution_count": 33,
   "metadata": {},
   "outputs": [],
   "source": [
    "agent = ReactJsonAgent(\n",
    "    tools=[retriever_tool], llm_engine=llm_engine, max_iterations=5, verbose=2\n",
    ")"
   ]
  },
  {
   "cell_type": "code",
   "execution_count": 34,
   "metadata": {},
   "outputs": [
    {
     "data": {
      "text/plain": [
       "<transformers.agents.agents.ReactJsonAgent at 0x7d2cfac9a890>"
      ]
     },
     "execution_count": 34,
     "metadata": {},
     "output_type": "execute_result"
    }
   ],
   "source": [
    "agent"
   ]
  },
  {
   "cell_type": "markdown",
   "metadata": {},
   "source": [
    "### Function to run the agent\n"
   ]
  },
  {
   "cell_type": "code",
   "execution_count": 35,
   "metadata": {},
   "outputs": [],
   "source": [
    "def run_agentic_rag(question: str) -> str:\n",
    "    enhanced_question = f\"\"\"\n",
    "    Using the information contained in your knowledge base, which you can access with the 'retriever' tool, give a comprehensive answer to the question below. Respond only to the question asked, response should be concise and relevant to the question. If you cannot find information, do not give up and try calling your retriever again with different arguments! Make sure to have covered the question completely by calling the retriever tool several times with semantically different queries. Your queries should not be questions but affirmative form sentences: e.g. rather than  \"query should be \"What is the termination policy?\", \"What is their vacation policy?\".\n",
    "\n",
    "    Question:\n",
    "    {question}\n",
    "\"\"\"\n",
    "\n",
    "    return agent.run(enhanced_question)"
   ]
  },
  {
   "cell_type": "code",
   "execution_count": 36,
   "metadata": {},
   "outputs": [
    {
     "name": "stderr",
     "output_type": "stream",
     "text": [
      "\u001b[33;1m======== New task ========\u001b[0m\n",
      "\u001b[37;1m\n",
      "    Using the information contained in your knowledge base, which you can access with the 'retriever' tool, give a comprehensive answer to the question below. Respond only to the question asked, response should be concise and relevant to the question. If you cannot find information, do not give up and try calling your retriever again with different arguments! Make sure to have covered the question completely by calling the retriever tool several times with semantically different queries. Your queries should not be questions but affirmative form sentences: e.g. rather than  \"query should be \"What is the termination policy?\", \"What is their vacation policy?\".\n",
      "\n",
      "    Question:\n",
      "    What is their vacation policy?\n",
      "\u001b[0m\n",
      "\u001b[38;20mSystem prompt is as follows:\u001b[0m\n",
      "\u001b[38;20mYou are an expert assistant who can solve any task using JSON tool calls. You will be given a task to solve as best you can.\n",
      "To do so, you have been given access to the following tools: 'retriever', 'final_answer'\n",
      "The way you use the tools is by specifying a json blob, ending with '<end_action>'.\n",
      "Specifically, this json should have an `action` key (name of the tool to use) and an `action_input` key (input to the tool).\n",
      "\n",
      "The $ACTION_JSON_BLOB should only contain a SINGLE action, do NOT return a list of multiple actions. It should be formatted in json. Do not try to escape special characters. Here is the template of a valid $ACTION_JSON_BLOB:\n",
      "{\n",
      "  \"action\": $TOOL_NAME,\n",
      "  \"action_input\": $INPUT\n",
      "}<end_action>\n",
      "\n",
      "Make sure to have the $INPUT as a dictionary in the right format for the tool you are using, and do not put variable names as input if you can find the right values.\n",
      "\n",
      "You should ALWAYS use the following format:\n",
      "\n",
      "Thought: you should always think about one action to take. Then use the action as follows:\n",
      "Action:\n",
      "$ACTION_JSON_BLOB\n",
      "Observation: the result of the action\n",
      "... (this Thought/Action/Observation can repeat N times, you should take several steps when needed. The $ACTION_JSON_BLOB must only use a SINGLE action at a time.)\n",
      "\n",
      "You can use the result of the previous action as input for the next action.\n",
      "The observation will always be a string: it can represent a file, like \"image_1.jpg\".\n",
      "Then you can use it as input for the next action. You can do it for instance as follows:\n",
      "\n",
      "Observation: \"image_1.jpg\"\n",
      "\n",
      "Thought: I need to transform the image that I received in the previous observation to make it green.\n",
      "Action:\n",
      "{\n",
      "  \"action\": \"image_transformer\",\n",
      "  \"action_input\": {\"image\": \"image_1.jpg\"}\n",
      "}<end_action>\n",
      "\n",
      "To provide the final answer to the task, use an action blob with \"action\": \"final_answer\" tool. It is the only way to complete the task, else you will be stuck on a loop. So your final output should look like this:\n",
      "Action:\n",
      "{\n",
      "  \"action\": \"final_answer\",\n",
      "  \"action_input\": {\"answer\": \"insert your final answer here\"}\n",
      "}<end_action>\n",
      "\n",
      "\n",
      "Here are a few examples using notional tools:\n",
      "---\n",
      "Task: \"Generate an image of the oldest person in this document.\"\n",
      "\n",
      "Thought: I will proceed step by step and use the following tools: `document_qa` to find the oldest person in the document, then `image_generator` to generate an image according to the answer.\n",
      "Action:\n",
      "{\n",
      "  \"action\": \"document_qa\",\n",
      "  \"action_input\": {\"document\": \"document.pdf\", \"question\": \"Who is the oldest person mentioned?\"}\n",
      "}<end_action>\n",
      "Observation: \"The oldest person in the document is John Doe, a 55 year old lumberjack living in Newfoundland.\"\n",
      "\n",
      "\n",
      "Thought: I will now generate an image showcasing the oldest person.\n",
      "Action:\n",
      "{\n",
      "  \"action\": \"image_generator\",\n",
      "  \"action_input\": {\"text\": \"\"A portrait of John Doe, a 55-year-old man living in Canada.\"\"}\n",
      "}<end_action>\n",
      "Observation: \"image.png\"\n",
      "\n",
      "Thought: I will now return the generated image.\n",
      "Action:\n",
      "{\n",
      "  \"action\": \"final_answer\",\n",
      "  \"action_input\": \"image.png\"\n",
      "}<end_action>\n",
      "\n",
      "---\n",
      "Task: \"What is the result of the following operation: 5 + 3 + 1294.678?\"\n",
      "\n",
      "Thought: I will use python code evaluator to compute the result of the operation and then return the final answer using the `final_answer` tool\n",
      "Action:\n",
      "{\n",
      "    \"action\": \"python_interpreter\",\n",
      "    \"action_input\": {\"code\": \"5 + 3 + 1294.678\"}\n",
      "}<end_action>\n",
      "Observation: 1302.678\n",
      "\n",
      "Thought: Now that I know the result, I will now return it.\n",
      "Action:\n",
      "{\n",
      "  \"action\": \"final_answer\",\n",
      "  \"action_input\": \"1302.678\"\n",
      "}<end_action>\n",
      "\n",
      "---\n",
      "Task: \"Which city has the highest population , Guangzhou or Shanghai?\"\n",
      "\n",
      "Thought: I need to get the populations for both cities and compare them: I will use the tool `search` to get the population of both cities.\n",
      "Action:\n",
      "{\n",
      "    \"action\": \"search\",\n",
      "    \"action_input\": \"Population Guangzhou\"\n",
      "}<end_action>\n",
      "Observation: ['Guangzhou has a population of 15 million inhabitants as of 2021.']\n",
      "\n",
      "\n",
      "Thought: Now let's get the population of Shanghai using the tool 'search'.\n",
      "Action:\n",
      "{\n",
      "    \"action\": \"search\",\n",
      "    \"action_input\": \"Population Shanghai\"\n",
      "}\n",
      "Observation: '26 million (2019)'\n",
      "\n",
      "Thought: Now I know that Shanghai has a larger population. Let's return the result.\n",
      "Action:\n",
      "{\n",
      "  \"action\": \"final_answer\",\n",
      "  \"action_input\": \"Shanghai\"\n",
      "}<end_action>\n",
      "\n",
      "\n",
      "Above example were using notional tools that might not exist for you. You only have acces to those tools:\n",
      "\n",
      "- retriever: Using semantic similarity, retrieves some documents from the knowledge base that have the closest embeddings to the input query.\n",
      "    Takes inputs: {'query': {'type': 'text', 'description': 'The query to perform. This should be semantically close to your target documents. Use the affirmative form rather than a question.'}}\n",
      "\n",
      "- final_answer: Provides a final answer to the given problem.\n",
      "    Takes inputs: {'answer': {'type': 'text', 'description': 'The final answer to the problem'}}\n",
      "\n",
      "Here are the rules you should always follow to solve your task:\n",
      "1. ALWAYS provide a 'Thought:' sequence, and an 'Action:' sequence that ends with <end_action>, else you will fail.\n",
      "2. Always use the right arguments for the tools. Never use variable names in the 'action_input' field, use the value instead.\n",
      "3. Call a tool only when needed: do not call the search agent if you do not need information, try to solve the task yourself.\n",
      "4. Never re-do a tool call that you previously did with the exact same parameters.\n",
      "\n",
      "Now Begin! If you solve the task correctly, you will receive a reward of $1,000,000.\n",
      "\u001b[0m\n",
      "\u001b[38;20m===== New step =====\u001b[0m\n",
      "===== Calling LLM with this last message: =====\n",
      "{'role': <MessageRole.USER: 'user'>, 'content': 'Task: \\n    Using the information contained in your knowledge base, which you can access with the \\'retriever\\' tool, give a comprehensive answer to the question below. Respond only to the question asked, response should be concise and relevant to the question. If you cannot find information, do not give up and try calling your retriever again with different arguments! Make sure to have covered the question completely by calling the retriever tool several times with semantically different queries. Your queries should not be questions but affirmative form sentences: e.g. rather than  \"query should be \"What is the termination policy?\", \"What is their vacation policy?\".\\n\\n    Question:\\n    What is their vacation policy?\\n'}\n",
      "\u001b[38;20m===== Output message of the LLM: =====\u001b[0m\n",
      "\u001b[38;20mThought: I will start by retrieving information related to the vacation policy. \n",
      "Action:\n",
      "{\n",
      "  \"action\": \"retriever\",\n",
      "  \"action_input\": {\"query\": {\"type\": \"text\", \"description\": \"The vacation policy of the company.\"}}\n",
      "}\u001b[0m\n",
      "\u001b[38;20m===== Extracting action =====\u001b[0m\n",
      "\u001b[33;1mCalling tool: 'retriever' with arguments: {'query': {'type': 'text', 'description': 'The vacation policy of the company.'}}\u001b[0m\n",
      "\u001b[31;20mError in tool call execution: Your search query must be a string\n",
      "You should only use this tool with a correct input.\n",
      "As a reminder, this tool's description is the following:\n",
      "\n",
      "- retriever: Using semantic similarity, retrieves some documents from the knowledge base that have the closest embeddings to the input query.\n",
      "    Takes inputs: {'query': {'type': 'text', 'description': 'The query to perform. This should be semantically close to your target documents. Use the affirmative form rather than a question.'}}\u001b[0m\n",
      "Traceback (most recent call last):\n",
      "  File \"/home/deadpool/Templates/interview/zania/z-env/lib/python3.10/site-packages/transformers/agents/agents.py\", line 502, in execute_tool_call\n",
      "    observation = self.toolbox.tools[tool_name](**arguments)\n",
      "  File \"/home/deadpool/Templates/interview/zania/z-env/lib/python3.10/site-packages/transformers/agents/tools.py\", line 134, in __call__\n",
      "    outputs = self.forward(*args, **kwargs)\n",
      "  File \"/tmp/ipykernel_62139/313967253.py\", line 17, in forward\n",
      "    assert isinstance(query, str), \"Your search query must be a string\"\n",
      "AssertionError: Your search query must be a string\n",
      "\n",
      "During handling of the above exception, another exception occurred:\n",
      "\n",
      "Traceback (most recent call last):\n",
      "  File \"/home/deadpool/Templates/interview/zania/z-env/lib/python3.10/site-packages/transformers/agents/agents.py\", line 758, in direct_run\n",
      "    step_logs = self.step()\n",
      "  File \"/home/deadpool/Templates/interview/zania/z-env/lib/python3.10/site-packages/transformers/agents/agents.py\", line 951, in step\n",
      "    observation = self.execute_tool_call(tool_name, arguments)\n",
      "  File \"/home/deadpool/Templates/interview/zania/z-env/lib/python3.10/site-packages/transformers/agents/agents.py\", line 505, in execute_tool_call\n",
      "    raise AgentExecutionError(\n",
      "transformers.agents.agents.AgentExecutionError: Error in tool call execution: Your search query must be a string\n",
      "You should only use this tool with a correct input.\n",
      "As a reminder, this tool's description is the following:\n",
      "\n",
      "- retriever: Using semantic similarity, retrieves some documents from the knowledge base that have the closest embeddings to the input query.\n",
      "    Takes inputs: {'query': {'type': 'text', 'description': 'The query to perform. This should be semantically close to your target documents. Use the affirmative form rather than a question.'}}\n",
      "\u001b[38;20m===== New step =====\u001b[0m\n",
      "===== Calling LLM with this last message: =====\n",
      "{'role': <MessageRole.TOOL_RESPONSE: 'tool-response'>, 'content': \"[OUTPUT OF STEP 0] Error: Error in tool call execution: Your search query must be a string\\nYou should only use this tool with a correct input.\\nAs a reminder, this tool's description is the following:\\n\\n- retriever: Using semantic similarity, retrieves some documents from the knowledge base that have the closest embeddings to the input query.\\n    Takes inputs: {'query': {'type': 'text', 'description': 'The query to perform. This should be semantically close to your target documents. Use the affirmative form rather than a question.'}}\\nNow let's retry: take care not to repeat previous errors! If you have retried several times, try a completely different approach.\\n\"}\n",
      "\u001b[38;20m===== Output message of the LLM: =====\u001b[0m\n",
      "\u001b[38;20mThought: I need to correct my input format for the retriever tool. I will use a concise statement about the vacation policy. \n",
      "Action:\n",
      "{\n",
      "  \"action\": \"retriever\",\n",
      "  \"action_input\": {\"query\": {\"type\": \"text\", \"description\": \"Company vacation policy details.\"}}\n",
      "}\u001b[0m\n",
      "\u001b[38;20m===== Extracting action =====\u001b[0m\n",
      "\u001b[33;1mCalling tool: 'retriever' with arguments: {'query': {'type': 'text', 'description': 'Company vacation policy details.'}}\u001b[0m\n",
      "\u001b[31;20mError in tool call execution: Your search query must be a string\n",
      "You should only use this tool with a correct input.\n",
      "As a reminder, this tool's description is the following:\n",
      "\n",
      "- retriever: Using semantic similarity, retrieves some documents from the knowledge base that have the closest embeddings to the input query.\n",
      "    Takes inputs: {'query': {'type': 'text', 'description': 'The query to perform. This should be semantically close to your target documents. Use the affirmative form rather than a question.'}}\u001b[0m\n",
      "Traceback (most recent call last):\n",
      "  File \"/home/deadpool/Templates/interview/zania/z-env/lib/python3.10/site-packages/transformers/agents/agents.py\", line 502, in execute_tool_call\n",
      "    observation = self.toolbox.tools[tool_name](**arguments)\n",
      "  File \"/home/deadpool/Templates/interview/zania/z-env/lib/python3.10/site-packages/transformers/agents/tools.py\", line 134, in __call__\n",
      "    outputs = self.forward(*args, **kwargs)\n",
      "  File \"/tmp/ipykernel_62139/313967253.py\", line 17, in forward\n",
      "    assert isinstance(query, str), \"Your search query must be a string\"\n",
      "AssertionError: Your search query must be a string\n",
      "\n",
      "During handling of the above exception, another exception occurred:\n",
      "\n",
      "Traceback (most recent call last):\n",
      "  File \"/home/deadpool/Templates/interview/zania/z-env/lib/python3.10/site-packages/transformers/agents/agents.py\", line 758, in direct_run\n",
      "    step_logs = self.step()\n",
      "  File \"/home/deadpool/Templates/interview/zania/z-env/lib/python3.10/site-packages/transformers/agents/agents.py\", line 951, in step\n",
      "    observation = self.execute_tool_call(tool_name, arguments)\n",
      "  File \"/home/deadpool/Templates/interview/zania/z-env/lib/python3.10/site-packages/transformers/agents/agents.py\", line 505, in execute_tool_call\n",
      "    raise AgentExecutionError(\n",
      "transformers.agents.agents.AgentExecutionError: Error in tool call execution: Your search query must be a string\n",
      "You should only use this tool with a correct input.\n",
      "As a reminder, this tool's description is the following:\n",
      "\n",
      "- retriever: Using semantic similarity, retrieves some documents from the knowledge base that have the closest embeddings to the input query.\n",
      "    Takes inputs: {'query': {'type': 'text', 'description': 'The query to perform. This should be semantically close to your target documents. Use the affirmative form rather than a question.'}}\n",
      "\u001b[38;20m===== New step =====\u001b[0m\n",
      "===== Calling LLM with this last message: =====\n",
      "{'role': <MessageRole.TOOL_RESPONSE: 'tool-response'>, 'content': \"[OUTPUT OF STEP 1] Error: Error in tool call execution: Your search query must be a string\\nYou should only use this tool with a correct input.\\nAs a reminder, this tool's description is the following:\\n\\n- retriever: Using semantic similarity, retrieves some documents from the knowledge base that have the closest embeddings to the input query.\\n    Takes inputs: {'query': {'type': 'text', 'description': 'The query to perform. This should be semantically close to your target documents. Use the affirmative form rather than a question.'}}\\nNow let's retry: take care not to repeat previous errors! If you have retried several times, try a completely different approach.\\n\"}\n",
      "\u001b[38;20m===== Output message of the LLM: =====\u001b[0m\n",
      "\u001b[38;20mThought: I need to ensure that my query input is formatted correctly as a string. I will try a different phrasing regarding the vacation policy. \n",
      "Action:\n",
      "{\n",
      "  \"action\": \"retriever\",\n",
      "  \"action_input\": {\"query\": \"Details of the vacation policy.\"}\n",
      "}\u001b[0m\n",
      "\u001b[38;20m===== Extracting action =====\u001b[0m\n",
      "\u001b[33;1mCalling tool: 'retriever' with arguments: {'query': 'Details of the vacation policy.'}\u001b[0m\n",
      "Retrieved documents:\n",
      "===== Document 0 =====\n",
      "7.7 Vacation\n",
      "24\n",
      "7.8 Workers' Compensation Insurance\n",
      "26\n",
      "8.0 SAFETY AND LOSS PREVENTION\n",
      "26\n",
      "8.1 Drug and Alcohol Policy\n",
      "26\n",
      "8.2 General Safety\n",
      "27\n",
      "8.3 Workplace Violence\n",
      "27\n",
      "9.0 TRADE SECRETS AND INVENTIONS\n",
      "28\n",
      "9.1 Confidentiality and Nondisclosure of Trade Secrets\n",
      "28\n",
      "9.2 Inventions\n",
      "28\n",
      "CALIFORNIA POLICIES\n",
      "29\n",
      "HIRING AND ORIENTATION POLICIES\n",
      "29\n",
      "Accommodations for Victims of Crime or Abuse\n",
      "29\n",
      "Disability Accommodation\n",
      "30\n",
      "EEO Statement and Nonharassment Policy\n",
      "31\n",
      "Religious Accommodation\n",
      "34\n",
      "WAGE AND HOUR POLICIES\n",
      "34\n",
      "Accommodations for Nursing Mothers\n",
      "34\n",
      "Meal and Rest Periods\n",
      "35\n",
      "One Day Rest in Seven\n",
      "36\n",
      "Overtime\n",
      "36\n",
      "Pay Period\n",
      "36\n",
      "Reporting Time Pay\n",
      "37\n",
      "Travel Time Pay\n",
      "37\n",
      "Wage Disclosure Protection\n",
      "37\n",
      "Workday/Workweek\n",
      "38\n",
      "GENERAL POLICIES\n",
      "38\n",
      "Access to Personnel and Medical Records Files\n",
      "38\n",
      "Whistleblower Protections\n",
      "38\n",
      "BENEFITS\n",
      "39\n",
      "Crime Victim Leave\n",
      "39\n",
      "Disability Insurance\n",
      "39\n",
      "Jury Duty Leave\n",
      "39\n",
      "Paid Family Leave Insurance\n",
      "40\n",
      "Paid Sick Leave (Accrual Method)\n",
      "40\n",
      "Paid Sick Leave (Frontloading Method)\n",
      "41\n",
      "School Disciplinary Leave\n",
      "42\n",
      "Voting Leave\n",
      "43\n",
      "Witness Leave\n",
      "43\n",
      "SAFETY AND LOSS PREVENTION\n",
      "43\n",
      "Heat Illness Prevention\n",
      "43\n",
      "Workplace Smoking\n",
      "44\n",
      "TRADE SECRETS AND INVENTIONS\n",
      "44\n",
      "Inventions\n",
      "44\n",
      "CLOSING STATEMENT\n",
      "45\n",
      "ACKNOWLEDGMENT OF RECEIPT AND REVIEW\n",
      "46\n",
      "3\n",
      "===== Document 1 =====\n",
      "Vacation granted during your first year of employment will be prorated based on your hire date.\n",
      "[[OR]]\n",
      "[[Option 2:]]\n",
      "All eligible employees will accrue [[# hours/days/weeks]] of vacation for every [[period of time]] worked, up to a maximum\n",
      "accrual of [[# hours/days/weeks]]. \n",
      "Once you reach the maximum accrual amount, you will not accrue any additional vacation until you use some of the accrued\n",
      "but unused vacation and the amount falls below the maximum accrual amount. You will not receive retroactive credit for any\n",
      "period of time in which you did not accrue vacation because you accrued the maximum amount.\n",
      "Leave Usage and Requests for Leave\n",
      "The Company encourages you to use your vacation time. You are eligible to begin using vacation [[immediately upon\n",
      "hire/upon completion of your introductory period/as soon as it is received /after # days of employment]].\n",
      "You must request vacation from your Manager as far in advance as possible, but at least [[# days/weeks]] in advance. The\n",
      "Company will generally grant requests for vacation when possible, taking business needs into consideration. When multiple\n",
      "employees request the same time off, their [[length of employment/seniority/collective-bargaining agreement]] may\n",
      "determine priority in scheduling vacation times.\n",
      "You must take vacation in increments of at least [[# of hours/days]].\n",
      "During a Leave of Absence\n",
      "The Company may require you to use any unused vacation during disability or family medical leave, or any other leave of\n",
      "absence, where permissible under local, state, and federal law.\n",
      "[[EMPLOYERS WHO USE AN ACCRUAL METHOD MUST ADD THE FOLLOWING LANGUAGE: You will not accrue\n",
      "vacation during unpaid leaves of absence, or other periods of inactive service, unless vacation accrual is required by\n",
      "applicable federal, state, or local law.]]\n",
      "Carryover\n",
      "[[EMPLOYERS MUST CHOOSE ONE:]]\n",
      "[[Unused vacation can be carried over to the following year [You may want to explain conditions for carryover: e.g., on\n",
      "or about your anniversary date/at the beginning of the following [calendar/fiscal] year].]] [[The Company may elect to offer\n",
      "payment for the unused time [on or about your anniversary date/at the beginning of the following [calendar/fiscal] year].]]\n",
      "[[OR]]\n",
      "[[OPTIONAL LANGUAGE FOR ALL STATES EXCEPT CALIFORNIA, COLORADO, MONTANA, AND NEBRASKA. DO\n",
      "NOT USE THIS LANGUAGE FOR CALIFORNIA, COLORADO, MONTANA, OR NEBRASKA HANDBOOKS.]]\n",
      "[[You may not carry over unused vacation to the following year. Any unused vacation will be forfeited [on or about your\n",
      "anniversary date/at the end of the [calendar/fiscal] year].]]\n",
      "Separation of Employment\n",
      "Upon separation of employment for any reason, you will [[forfeit any earned but unused [vacation time] unless state law\n",
      "dictates otherwise/will be paid for earned but unused [vacation time].]]\n",
      "25\n",
      "===== Document 2 =====\n",
      "retains the discretion to determine the similarity of any available positions and your qualifications. If we are unable to\n",
      "reinstate you or you refuse the offer of reinstatement to a different position, your leave status will be changed to a voluntary\n",
      "termination.\n",
      "Failure to Return from Leave\n",
      "If you fail to return to work after an unpaid leave of absence, you will be considered to have resigned your employment.\n",
      "Alternative Employment\n",
      "While on an unpaid leave of absence, you may not work or be gainfully employed either for yourself or others unless\n",
      "express, written permission to perform such outside work has been granted by the Company. If you are on a leave of\n",
      "absence and are found to be working elsewhere without permission, you will be subject to disciplinary action up to and\n",
      "including termination.\n",
      "7.6 Sick Pay\n",
      "Zania, Inc. allows its regular full-time employees who have completed their introductory period [[#]] sick days per calendar\n",
      "year. Notify your Manager as far in advance as possible if you are going to take sick time off. There may be occasions, such\n",
      "as sudden illness, when you cannot notify your Manager in advance. In those situations, provide notification of your\n",
      "circumstances as soon as possible. You may also be requested to provide a certificate of illness to your Manager.\n",
      "You may use sick leave benefits for dental or doctor visits or to care for immediate family members who are sick. There may\n",
      "also be state mandated use of sick time. Unused sick days may not be converted to a cash payment. You may be required\n",
      "to use available sick leave during family and medical leave, disability leave, or other leave.\n",
      "[[Sick time accumulation will be capped at a total of [#] days per year.]]\n",
      "7.7 Vacation\n",
      "Zania, Inc. provides employees with paid vacation.\n",
      "Eligibility\n",
      "All [[full-time regular]] employees are eligible to receive vacation time [[immediately upon hire/upon completion of the\n",
      "introductory period/after completing # days of employment]].\n",
      "Deposits Into Your Leave Account\n",
      "Vacation is calculated according to [[your work anniversary year/the calendar year/the fiscal year, which begins on [date]\n",
      "and ends on [date]]]. \n",
      "[[EMPLOYERS MUST CHOOSE ONE:]]\n",
      "[[Option 1:]]\n",
      "The amount of vacation received each year is based on your length of service and [[is granted in a lump sum at the\n",
      "beginning of each year/accrues according to an accrual schedule determined by the Company up to a maximum annual\n",
      "grant as shown below]]:\n",
      "First year of employment: [[# hours/days/weeks]] annually.\n",
      "Second and third year of employment: [[# hours/days/weeks]] annually.\n",
      "Third through fifth year of employment: [[# hours/days/weeks]] annually.\n",
      "Over five years of employment: [[# hours/days/weeks]] annually.\n",
      "Part-time regular employees receive vacation time in proportion to their work schedule.\n",
      "24\n",
      "===== Document 3 =====\n",
      "may be granted at the discretion of the Company on a case-by-case basis.]]\n",
      "For purposes of this policy, immediate family member includes the following and applies both to the family of the employee\n",
      "and the employee's spouse: [[child (including foster child and stepchild), spouse, sister, brother, parents (including foster\n",
      "parents and stepparents), grandparents]]. \n",
      "You must provide notice of your need for bereavement leave as far in advance as possible. The Company may require\n",
      "documentation supporting your need for bereavement leave.\n",
      "7.2 Holidays\n",
      "Zania, Inc. offers the following paid holidays each year: [[list all paid holidays]].\n",
      "When a holiday falls on a Saturday, it will be observed the preceding Friday. Holidays falling on a Sunday will be observed\n",
      "the following Monday.\n",
      "If a holiday falls on your regular day off, ask your Manager how it affects you. \n",
      "You will be compensated for holidays in accordance with federal and state law.\n",
      "7.3 Military Leave (USERRA)\n",
      "Zania, Inc. complies with applicable federal and state law regarding military leave and re-employment rights. A military leave\n",
      "of absence will be granted to members of the uniformed services in accordance with the Uniformed Services Employment\n",
      "and Reemployment Rights Act of 1994 (USERRA, with amendments) and all applicable state law. You must submit\n",
      "documentation of the need for leave to [[Human Resources or appropriate department]]. When returning from military leave\n",
      "of absence, you will be reinstated to your previous position or a similar position, in accordance with state and federal law.\n",
      "You must notify your Manager of your intent to return to employment based on requirements of the law. For more\n",
      "information regarding status, compensation, benefits, and reinstatement upon return from military leave, contact [[Human\n",
      "Resources or appropriate department]].\n",
      "7.4 Paid Time Off (PTO)\n",
      "Zania, Inc. provides employees with paid time off (PTO). PTO may be used for [[vacation, sick time, or other personal\n",
      "matters]].\n",
      "Eligibility\n",
      "All [[full-time regular]] employees are eligible to receive PTO [[immediately upon hire/upon completion of the introductory\n",
      "period/after completing # days of employment]].\n",
      "Deposits Into Your Leave Account\n",
      "PTO is calculated according to [[your work anniversary year/the calendar year/the fiscal year, which begins on [date] and\n",
      "ends on [date] ]]. \n",
      "[[EMPLOYERS MUST CHOOSE ONE:]]\n",
      "[[Option 1:]]\n",
      "The amount of PTO received each year is based on your length of service and [[is granted in a lump sum at the beginning of\n",
      "each year/accrues according to an accrual schedule determined by the Company up to a maximum annual grant as shown\n",
      "below:]]\n",
      "First year of employment: [[# hours/days/weeks]] annually.\n",
      "21\n",
      "===== Document 4 =====\n",
      "involuntarily missed meal or break periods.\n",
      "Falsifying time entries is strictly prohibited. Falsifying time entries includes working \"off the clock.\" If you falsify your own time\n",
      "records, or the time records of co-workers, or if you work off the clock, you will be subject to discipline up to and including\n",
      "termination. Immediately report to [[appropriate department]] any employee, supervisor, or manager who falsifies your time\n",
      "entries or encourages or requires you to falsify your time entries or work off the clock.\n",
      "4.9 Travel Expenses\n",
      "The purpose of this policy is to define approved business travel expenses and the authority for incurring and approving such\n",
      "expenses at Zania, Inc.. \n",
      "Travel expenses are the reasonable and necessary expenses incurred by employees when traveling on approved Zania,\n",
      "Inc. business trips. Travel is limited to business activities for which other means of communication is inadequate and for\n",
      "which prior approval from your Manager has been received.\n",
      "Advances\n",
      "The Company does not generally provide cash travel advances. Normally, you will be expected to use personal credit cards\n",
      "and/or your own cash and submit approved expenses on the standard Expense Report Form.\n",
      "Travel Expenses\n",
      "The Company pays the actual amounts incurred for appropriate expenses when you are on travel assignments. Examples of\n",
      "typical expenses include the following:\n",
      "Airline tickets.\n",
      "Meals and lodging.\n",
      "Car rental, bus, taxi, parking.\n",
      "Telephone and fax.\n",
      "Laundry and dry cleaning (trips exceeding one week only, unless emergency).\n",
      "Business supplies and services.\n",
      "Associated gratuities.\n",
      "Other expenses necessary to achieve the business purposes.\n",
      "Family Members\n",
      "The Company will pay the travel expenses of spouses or other family members only when their presence is necessary to the\n",
      "business purpose of the trip and when approved in advance in writing by the [[President or Chief Executive Officer]].\n",
      "Air Travel\n",
      "Use economy or tourist class airfares when traveling on Company business. In addition, private, noncommercial aircraft or\n",
      "chartered aircraft is not to be used, and no more than two Company officers should travel together on the same flight.\n",
      "Airfares are to be charged to personal credit cards and subsequently submitted for reimbursement on a monthly expense\n",
      "report.\n",
      "Hotels\n",
      "Neither in-room movies nor refreshment bars are approved Company expenses.\n",
      "Insurance\n",
      "The Company does not pay for personal travel insurance for employees.\n",
      "Rental Cars\n",
      "10\n",
      "===== Document 5 =====\n",
      "Separation of Employment\n",
      "Upon separation of employment for any reason, you will [[forfeit any earned but unused PTO time unless state law dictates\n",
      "otherwise/will be paid for earned but unused PTO time]].\n",
      "7.5 Personal Leave of Absence\n",
      "Zania, Inc. recognizes that you may need time off from work in special circumstances that other leave policies may not\n",
      "address. In such cases, you may request a personal leave of absence.\n",
      "Eligibility\n",
      "All [[regular/full-time/part-time]] employees employed for at least [[# days/months]] are eligible to apply for an unpaid\n",
      "personal leave of absence.\n",
      "Requesting Leave\n",
      "Requests for unpaid personal leave must be submitted to your Manager [[and/or appropriate department]] in writing at least\n",
      "[[# days]] in advance where practical. In emergency situations, written notice must be provided as soon as possible. The\n",
      "request should include the reason for the leave as well as the dates you expect to begin and end the leave.\n",
      "Job performance, absenteeism, and departmental requirements will be taken into consideration before a request is\n",
      "approved. Requests for unpaid personal leave may be denied or granted for any reason and are within the sole discretion of\n",
      "the Company. \n",
      "[[You will be required to use all available paid leave balances prior to taking an unpaid personal leave of absence/You may\n",
      "substitute any applicable and available paid leave for all or a portion of your unpaid personal leave.]]\n",
      "[[Sick leave, PTO, vacation time, seniority, or other benefits]] will not accrue during an unpaid personal leave of absence.\n",
      "Holidays that occur during an unpaid personal leave of absence will not be paid.\n",
      "If you are granted a personal leave of absence, reinstatement to your position or any position is not guaranteed. \n",
      "[[# Benefits While on Leave]]\n",
      "[[Your Company-provided [health] benefits will be continued at the same level and under the same conditions as prior to the\n",
      "leave, for up to [# weeks/months as shown in the benefit plan document]. You are responsible for payment of your portion of\n",
      "the insurance premium while on personal leave.]]\n",
      "[[If you are on a personal leave of absence that exceeds [# weeks/months as shown in the benefit plan document], or you\n",
      "fail to pay your premium payment in a timely manner, the Company will provide you with information about your rights under\n",
      "COBRA and/or applicable state continuation coverage policies.]]\n",
      "Extension of Leave\n",
      "You are required to return from unpaid personal leave on the originally scheduled return date. If you are unable to return,\n",
      "you must request an extension of the leave in writing at least [[# days/weeks]] in advance of the return date. Leave\n",
      "extensions will be considered on a case-by-case basis. If the Company denies the extension request, you must return to\n",
      "work on the originally scheduled return date or be considered to have voluntarily resigned from your employment.\n",
      "Return to Work\n",
      "In advance of your scheduled return date, [[your Manager or appropriate department]] will arrange for you to resume your\n",
      "previous position, if available. However, the Company's need to fill a position may override the ability to hold a position open\n",
      "until your return. Therefore, we cannot assure our ability to reinstate you to any position after your leave. The Company\n",
      "23\n",
      "===== Document 6 =====\n",
      "TABLE OF CONTENTS\n",
      "CORE POLICIES\n",
      "4\n",
      "1.0 WELCOME\n",
      "4\n",
      "1.1 A Welcome Policy\n",
      "4\n",
      "1.2 At-Will Employment\n",
      "4\n",
      "2.0 INTRODUCTORY LANGUAGE AND POLICIES\n",
      "5\n",
      "2.1 About the Company\n",
      "5\n",
      "2.2 Company Facilities\n",
      "5\n",
      "2.3 Ethics Code\n",
      "5\n",
      "2.4 Mission Statement\n",
      "5\n",
      "2.5 Our Organization\n",
      "5\n",
      "2.6 Revisions to Handbook\n",
      "5\n",
      "3.0 HIRING AND ORIENTATION POLICIES\n",
      "5\n",
      "3.1 Accommodations for Pregnant Employees\n",
      "5\n",
      "3.2 Conflicts of Interest\n",
      "6\n",
      "3.3 Employment Authorization Verification\n",
      "6\n",
      "3.4 Employment of Relatives and Friends\n",
      "6\n",
      "3.5 Job Descriptions\n",
      "7\n",
      "3.6 New Hires and Introductory Periods\n",
      "7\n",
      "3.7 Training Program\n",
      "7\n",
      "4.0 WAGE AND HOUR POLICIES\n",
      "7\n",
      "4.1 Attendance\n",
      "7\n",
      "4.2 Business Expenses\n",
      "7\n",
      "4.3 Direct Deposit\n",
      "8\n",
      "4.4 Employment Classifications\n",
      "8\n",
      "4.5 Introduction to Wage and Hour Policies\n",
      "8\n",
      "4.6 Job Abandonment\n",
      "9\n",
      "4.7 Paycheck Deductions\n",
      "9\n",
      "4.8 Recording Time\n",
      "9\n",
      "4.9 Travel Expenses\n",
      "10\n",
      "4.10 Use of Employer Credit Cards\n",
      "11\n",
      "5.0 PERFORMANCE, DISCIPLINE, LAYOFF, AND TERMINATION\n",
      "11\n",
      "5.1 Criminal Activity/Arrests\n",
      "11\n",
      "5.2 Disciplinary Process\n",
      "11\n",
      "5.3 Exit Interview\n",
      "12\n",
      "5.4 Open Door/Conflict Resolution Process\n",
      "12\n",
      "5.5 Outside Employment\n",
      "12\n",
      "5.6 Pay Raises\n",
      "12\n",
      "5.7 Performance Improvement\n",
      "12\n",
      "5.8 Post-Employment References\n",
      "13\n",
      "5.9 Promotions\n",
      "13\n",
      "5.10 Resignation Policy\n",
      "13\n",
      "5.11 Standards of Conduct\n",
      "13\n",
      "5.12 Transfers\n",
      "14\n",
      "5.13 Workforce Reductions (Layoffs)\n",
      "14\n",
      "6.0 GENERAL POLICIES\n",
      "14\n",
      "6.1 Computer Security and Copying of Software\n",
      "14\n",
      "6.2 Employer Sponsored Social Events\n",
      "15\n",
      "6.3 Employer-Provided Cell Phones/Mobile Devices\n",
      "15\n",
      "6.4 Nonsolicitation/Nondistribution Policy\n",
      "15\n",
      "6.5 Off-Duty Use of Employer Property or Premises\n",
      "16\n",
      "6.6 Personal Appearance\n",
      "16\n",
      "6.7 Personal Cell Phone/Mobile Device Use\n",
      "16\n",
      "6.8 Personal Data Changes\n",
      "17\n",
      "6.9 Security\n",
      "17\n",
      "6.10 Social Media\n",
      "17\n",
      "6.11 Third Party Disclosures\n",
      "19\n",
      "6.12 Use of Company Technology\n",
      "19\n",
      "6.13 Workplace Privacy and Right to Inspect\n",
      "20\n",
      "7.0 BENEFITS\n",
      "20\n",
      "7.1 Bereavement Leave\n",
      "20\n",
      "7.2 Holidays\n",
      "21\n",
      "7.3 Military Leave (USERRA)\n",
      "21\n",
      "7.4 Paid Time Off (PTO)\n",
      "21\n",
      "7.5 Personal Leave of Absence\n",
      "23\n",
      "7.6 Sick Pay\n",
      "24\n",
      "2\n",
      "\u001b[38;20m===== New step =====\u001b[0m\n",
      "===== Calling LLM with this last message: =====\n",
      "{'role': <MessageRole.TOOL_RESPONSE: 'tool-response'>, 'content': '[OUTPUT OF STEP 2] Observation:\\nRetrieved documents:\\n===== Document 0 =====\\n7.7 Vacation\\n24\\n7.8 Workers\\' Compensation Insurance\\n26\\n8.0 SAFETY AND LOSS PREVENTION\\n26\\n8.1 Drug and Alcohol Policy\\n26\\n8.2 General Safety\\n27\\n8.3 Workplace Violence\\n27\\n9.0 TRADE SECRETS AND INVENTIONS\\n28\\n9.1 Confidentiality and Nondisclosure of Trade Secrets\\n28\\n9.2 Inventions\\n28\\nCALIFORNIA POLICIES\\n29\\nHIRING AND ORIENTATION POLICIES\\n29\\nAccommodations for Victims of Crime or Abuse\\n29\\nDisability Accommodation\\n30\\nEEO Statement and Nonharassment Policy\\n31\\nReligious Accommodation\\n34\\nWAGE AND HOUR POLICIES\\n34\\nAccommodations for Nursing Mothers\\n34\\nMeal and Rest Periods\\n35\\nOne Day Rest in Seven\\n36\\nOvertime\\n36\\nPay Period\\n36\\nReporting Time Pay\\n37\\nTravel Time Pay\\n37\\nWage Disclosure Protection\\n37\\nWorkday/Workweek\\n38\\nGENERAL POLICIES\\n38\\nAccess to Personnel and Medical Records Files\\n38\\nWhistleblower Protections\\n38\\nBENEFITS\\n39\\nCrime Victim Leave\\n39\\nDisability Insurance\\n39\\nJury Duty Leave\\n39\\nPaid Family Leave Insurance\\n40\\nPaid Sick Leave (Accrual Method)\\n40\\nPaid Sick Leave (Frontloading Method)\\n41\\nSchool Disciplinary Leave\\n42\\nVoting Leave\\n43\\nWitness Leave\\n43\\nSAFETY AND LOSS PREVENTION\\n43\\nHeat Illness Prevention\\n43\\nWorkplace Smoking\\n44\\nTRADE SECRETS AND INVENTIONS\\n44\\nInventions\\n44\\nCLOSING STATEMENT\\n45\\nACKNOWLEDGMENT OF RECEIPT AND REVIEW\\n46\\n3\\n===== Document 1 =====\\nVacation granted during your first year of employment will be prorated based on your hire date.\\n[[OR]]\\n[[Option 2:]]\\nAll eligible employees will accrue [[# hours/days/weeks]] of vacation for every [[period of time]] worked, up to a maximum\\naccrual of [[# hours/days/weeks]]. \\nOnce you reach the maximum accrual amount, you will not accrue any additional vacation until you use some of the accrued\\nbut unused vacation and the amount falls below the maximum accrual amount. You will not receive retroactive credit for any\\nperiod of time in which you did not accrue vacation because you accrued the maximum amount.\\nLeave Usage and Requests for Leave\\nThe Company encourages you to use your vacation time. You are eligible to begin using vacation [[immediately upon\\nhire/upon completion of your introductory period/as soon as it is received /after # days of employment]].\\nYou must request vacation from your Manager as far in advance as possible, but at least [[# days/weeks]] in advance. The\\nCompany will generally grant requests for vacation when possible, taking business needs into consideration. When multiple\\nemployees request the same time off, their [[length of employment/seniority/collective-bargaining agreement]] may\\ndetermine priority in scheduling vacation times.\\nYou must take vacation in increments of at least [[# of hours/days]].\\nDuring a Leave of Absence\\nThe Company may require you to use any unused vacation during disability or family medical leave, or any other leave of\\nabsence, where permissible under local, state, and federal law.\\n[[EMPLOYERS WHO USE AN ACCRUAL METHOD MUST ADD THE FOLLOWING LANGUAGE: You will not accrue\\nvacation during unpaid leaves of absence, or other periods of inactive service, unless vacation accrual is required by\\napplicable federal, state, or local law.]]\\nCarryover\\n[[EMPLOYERS MUST CHOOSE ONE:]]\\n[[Unused vacation can be carried over to the following year [You may want to explain conditions for carryover: e.g., on\\nor about your anniversary date/at the beginning of the following [calendar/fiscal] year].]] [[The Company may elect to offer\\npayment for the unused time [on or about your anniversary date/at the beginning of the following [calendar/fiscal] year].]]\\n[[OR]]\\n[[OPTIONAL LANGUAGE FOR ALL STATES EXCEPT CALIFORNIA, COLORADO, MONTANA, AND NEBRASKA. DO\\nNOT USE THIS LANGUAGE FOR CALIFORNIA, COLORADO, MONTANA, OR NEBRASKA HANDBOOKS.]]\\n[[You may not carry over unused vacation to the following year. Any unused vacation will be forfeited [on or about your\\nanniversary date/at the end of the [calendar/fiscal] year].]]\\nSeparation of Employment\\nUpon separation of employment for any reason, you will [[forfeit any earned but unused [vacation time] unless state law\\ndictates otherwise/will be paid for earned but unused [vacation time].]]\\n25\\n===== Document 2 =====\\nretains the discretion to determine the similarity of any available positions and your qualifications. If we are unable to\\nreinstate you or you refuse the offer of reinstatement to a different position, your leave status will be changed to a voluntary\\ntermination.\\nFailure to Return from Leave\\nIf you fail to return to work after an unpaid leave of absence, you will be considered to have resigned your employment.\\nAlternative Employment\\nWhile on an unpaid leave of absence, you may not work or be gainfully employed either for yourself or others unless\\nexpress, written permission to perform such outside work has been granted by the Company. If you are on a leave of\\nabsence and are found to be working elsewhere without permission, you will be subject to disciplinary action up to and\\nincluding termination.\\n7.6 Sick Pay\\nZania, Inc. allows its regular full-time employees who have completed their introductory period [[#]] sick days per calendar\\nyear. Notify your Manager as far in advance as possible if you are going to take sick time off. There may be occasions, such\\nas sudden illness, when you cannot notify your Manager in advance. In those situations, provide notification of your\\ncircumstances as soon as possible. You may also be requested to provide a certificate of illness to your Manager.\\nYou may use sick leave benefits for dental or doctor visits or to care for immediate family members who are sick. There may\\nalso be state mandated use of sick time. Unused sick days may not be converted to a cash payment. You may be required\\nto use available sick leave during family and medical leave, disability leave, or other leave.\\n[[Sick time accumulation will be capped at a total of [#] days per year.]]\\n7.7 Vacation\\nZania, Inc. provides employees with paid vacation.\\nEligibility\\nAll [[full-time regular]] employees are eligible to receive vacation time [[immediately upon hire/upon completion of the\\nintroductory period/after completing # days of employment]].\\nDeposits Into Your Leave Account\\nVacation is calculated according to [[your work anniversary year/the calendar year/the fiscal year, which begins on [date]\\nand ends on [date]]]. \\n[[EMPLOYERS MUST CHOOSE ONE:]]\\n[[Option 1:]]\\nThe amount of vacation received each year is based on your length of service and [[is granted in a lump sum at the\\nbeginning of each year/accrues according to an accrual schedule determined by the Company up to a maximum annual\\ngrant as shown below]]:\\nFirst year of employment: [[# hours/days/weeks]] annually.\\nSecond and third year of employment: [[# hours/days/weeks]] annually.\\nThird through fifth year of employment: [[# hours/days/weeks]] annually.\\nOver five years of employment: [[# hours/days/weeks]] annually.\\nPart-time regular employees receive vacation time in proportion to their work schedule.\\n24\\n===== Document 3 =====\\nmay be granted at the discretion of the Company on a case-by-case basis.]]\\nFor purposes of this policy, immediate family member includes the following and applies both to the family of the employee\\nand the employee\\'s spouse: [[child (including foster child and stepchild), spouse, sister, brother, parents (including foster\\nparents and stepparents), grandparents]]. \\nYou must provide notice of your need for bereavement leave as far in advance as possible. The Company may require\\ndocumentation supporting your need for bereavement leave.\\n7.2 Holidays\\nZania, Inc. offers the following paid holidays each year: [[list all paid holidays]].\\nWhen a holiday falls on a Saturday, it will be observed the preceding Friday. Holidays falling on a Sunday will be observed\\nthe following Monday.\\nIf a holiday falls on your regular day off, ask your Manager how it affects you. \\nYou will be compensated for holidays in accordance with federal and state law.\\n7.3 Military Leave (USERRA)\\nZania, Inc. complies with applicable federal and state law regarding military leave and re-employment rights. A military leave\\nof absence will be granted to members of the uniformed services in accordance with the Uniformed Services Employment\\nand Reemployment Rights Act of 1994 (USERRA, with amendments) and all applicable state law. You must submit\\ndocumentation of the need for leave to [[Human Resources or appropriate department]]. When returning from military leave\\nof absence, you will be reinstated to your previous position or a similar position, in accordance with state and federal law.\\nYou must notify your Manager of your intent to return to employment based on requirements of the law. For more\\ninformation regarding status, compensation, benefits, and reinstatement upon return from military leave, contact [[Human\\nResources or appropriate department]].\\n7.4 Paid Time Off (PTO)\\nZania, Inc. provides employees with paid time off (PTO). PTO may be used for [[vacation, sick time, or other personal\\nmatters]].\\nEligibility\\nAll [[full-time regular]] employees are eligible to receive PTO [[immediately upon hire/upon completion of the introductory\\nperiod/after completing # days of employment]].\\nDeposits Into Your Leave Account\\nPTO is calculated according to [[your work anniversary year/the calendar year/the fiscal year, which begins on [date] and\\nends on [date] ]]. \\n[[EMPLOYERS MUST CHOOSE ONE:]]\\n[[Option 1:]]\\nThe amount of PTO received each year is based on your length of service and [[is granted in a lump sum at the beginning of\\neach year/accrues according to an accrual schedule determined by the Company up to a maximum annual grant as shown\\nbelow:]]\\nFirst year of employment: [[# hours/days/weeks]] annually.\\n21\\n===== Document 4 =====\\ninvoluntarily missed meal or break periods.\\nFalsifying time entries is strictly prohibited. Falsifying time entries includes working \"off the clock.\" If you falsify your own time\\nrecords, or the time records of co-workers, or if you work off the clock, you will be subject to discipline up to and including\\ntermination. Immediately report to [[appropriate department]] any employee, supervisor, or manager who falsifies your time\\nentries or encourages or requires you to falsify your time entries or work off the clock.\\n4.9 Travel Expenses\\nThe purpose of this policy is to define approved business travel expenses and the authority for incurring and approving such\\nexpenses at Zania, Inc.. \\nTravel expenses are the reasonable and necessary expenses incurred by employees when traveling on approved Zania,\\nInc. business trips. Travel is limited to business activities for which other means of communication is inadequate and for\\nwhich prior approval from your Manager has been received.\\nAdvances\\nThe Company does not generally provide cash travel advances. Normally, you will be expected to use personal credit cards\\nand/or your own cash and submit approved expenses on the standard Expense Report Form.\\nTravel Expenses\\nThe Company pays the actual amounts incurred for appropriate expenses when you are on travel assignments. Examples of\\ntypical expenses include the following:\\nAirline tickets.\\nMeals and lodging.\\nCar rental, bus, taxi, parking.\\nTelephone and fax.\\nLaundry and dry cleaning (trips exceeding one week only, unless emergency).\\nBusiness supplies and services.\\nAssociated gratuities.\\nOther expenses necessary to achieve the business purposes.\\nFamily Members\\nThe Company will pay the travel expenses of spouses or other family members only when their presence is necessary to the\\nbusiness purpose of the trip and when approved in advance in writing by the [[President or Chief Executive Officer]].\\nAir Travel\\nUse economy or tourist class airfares when traveling on Company business. In addition, private, noncommercial aircraft or\\nchartered aircraft is not to be used, and no more than two Company officers should travel together on the same flight.\\nAirfares are to be charged to personal credit cards and subsequently submitted for reimbursement on a monthly expense\\nreport.\\nHotels\\nNeither in-room movies nor refreshment bars are approved Company expenses.\\nInsurance\\nThe Company does not pay for personal travel insurance for employees.\\nRental Cars\\n10\\n===== Document 5 =====\\nSeparation of Employment\\nUpon separation of employment for any reason, you will [[forfeit any earned but unused PTO time unless state law dictates\\notherwise/will be paid for earned but unused PTO time]].\\n7.5 Personal Leave of Absence\\nZania, Inc. recognizes that you may need time off from work in special circumstances that other leave policies may not\\naddress. In such cases, you may request a personal leave of absence.\\nEligibility\\nAll [[regular/full-time/part-time]] employees employed for at least [[# days/months]] are eligible to apply for an unpaid\\npersonal leave of absence.\\nRequesting Leave\\nRequests for unpaid personal leave must be submitted to your Manager [[and/or appropriate department]] in writing at least\\n[[# days]] in advance where practical. In emergency situations, written notice must be provided as soon as possible. The\\nrequest should include the reason for the leave as well as the dates you expect to begin and end the leave.\\nJob performance, absenteeism, and departmental requirements will be taken into consideration before a request is\\napproved. Requests for unpaid personal leave may be denied or granted for any reason and are within the sole discretion of\\nthe Company. \\n[[You will be required to use all available paid leave balances prior to taking an unpaid personal leave of absence/You may\\nsubstitute any applicable and available paid leave for all or a portion of your unpaid personal leave.]]\\n[[Sick leave, PTO, vacation time, seniority, or other benefits]] will not accrue during an unpaid personal leave of absence.\\nHolidays that occur during an unpaid personal leave of absence will not be paid.\\nIf you are granted a personal leave of absence, reinstatement to your position or any position is not guaranteed. \\n[[# Benefits While on Leave]]\\n[[Your Company-provided [health] benefits will be continued at the same level and under the same conditions as prior to the\\nleave, for up to [# weeks/months as shown in the benefit plan document]. You are responsible for payment of your portion of\\nthe insurance premium while on personal leave.]]\\n[[If you are on a personal leave of absence that exceeds [# weeks/months as shown in the benefit plan document], or you\\nfail to pay your premium payment in a timely manner, the Company will provide you with information about your rights under\\nCOBRA and/or applicable state continuation coverage policies.]]\\nExtension of Leave\\nYou are required to return from unpaid personal leave on the originally scheduled return date. If you are unable to return,\\nyou must request an extension of the leave in writing at least [[# days/weeks]] in advance of the return date. Leave\\nextensions will be considered on a case-by-case basis. If the Company denies the extension request, you must return to\\nwork on the originally scheduled return date or be considered to have voluntarily resigned from your employment.\\nReturn to Work\\nIn advance of your scheduled return date, [[your Manager or appropriate department]] will arrange for you to resume your\\nprevious position, if available. However, the Company\\'s need to fill a position may override the ability to hold a position open\\nuntil your return. Therefore, we cannot assure our ability to reinstate you to any position after your leave. The Company\\n23\\n===== Document 6 =====\\nTABLE OF CONTENTS\\nCORE POLICIES\\n4\\n1.0 WELCOME\\n4\\n1.1 A Welcome Policy\\n4\\n1.2 At-Will Employment\\n4\\n2.0 INTRODUCTORY LANGUAGE AND POLICIES\\n5\\n2.1 About the Company\\n5\\n2.2 Company Facilities\\n5\\n2.3 Ethics Code\\n5\\n2.4 Mission Statement\\n5\\n2.5 Our Organization\\n5\\n2.6 Revisions to Handbook\\n5\\n3.0 HIRING AND ORIENTATION POLICIES\\n5\\n3.1 Accommodations for Pregnant Employees\\n5\\n3.2 Conflicts of Interest\\n6\\n3.3 Employment Authorization Verification\\n6\\n3.4 Employment of Relatives and Friends\\n6\\n3.5 Job Descriptions\\n7\\n3.6 New Hires and Introductory Periods\\n7\\n3.7 Training Program\\n7\\n4.0 WAGE AND HOUR POLICIES\\n7\\n4.1 Attendance\\n7\\n4.2 Business Expenses\\n7\\n4.3 Direct Deposit\\n8\\n4.4 Employment Classifications\\n8\\n4.5 Introduction to Wage and Hour Policies\\n8\\n4.6 Job Abandonment\\n9\\n4.7 Paycheck Deductions\\n9\\n4.8 Recording Time\\n9\\n4.9 Travel Expenses\\n10\\n4.10 Use of Employer Credit Cards\\n11\\n5.0 PERFORMANCE, DISCIPLINE, LAYOFF, AND TERMINATION\\n11\\n5.1 Criminal Activity/Arrests\\n11\\n5.2 Disciplinary Process\\n11\\n5.3 Exit Interview\\n12\\n5.4 Open Door/Conflict Resolution Process\\n12\\n5.5 Outside Employment\\n12\\n5.6 Pay Raises\\n12\\n5.7 Performance Improvement\\n12\\n5.8 Post-Employment References\\n13\\n5.9 Promotions\\n13\\n5.10 Resignation Policy\\n13\\n5.11 Standards of Conduct\\n13\\n5.12 Transfers\\n14\\n5.13 Workforce Reductions (Layoffs)\\n14\\n6.0 GENERAL POLICIES\\n14\\n6.1 Computer Security and Copying of Software\\n14\\n6.2 Employer Sponsored Social Events\\n15\\n6.3 Employer-Provided Cell Phones/Mobile Devices\\n15\\n6.4 Nonsolicitation/Nondistribution Policy\\n15\\n6.5 Off-Duty Use of Employer Property or Premises\\n16\\n6.6 Personal Appearance\\n16\\n6.7 Personal Cell Phone/Mobile Device Use\\n16\\n6.8 Personal Data Changes\\n17\\n6.9 Security\\n17\\n6.10 Social Media\\n17\\n6.11 Third Party Disclosures\\n19\\n6.12 Use of Company Technology\\n19\\n6.13 Workplace Privacy and Right to Inspect\\n20\\n7.0 BENEFITS\\n20\\n7.1 Bereavement Leave\\n20\\n7.2 Holidays\\n21\\n7.3 Military Leave (USERRA)\\n21\\n7.4 Paid Time Off (PTO)\\n21\\n7.5 Personal Leave of Absence\\n23\\n7.6 Sick Pay\\n24\\n2'}\n",
      "\u001b[38;20m===== Output message of the LLM: =====\u001b[0m\n",
      "\u001b[38;20mThought: I have retrieved relevant information about the vacation policy. I will extract the key details regarding the vacation policy from the documents obtained. \n",
      "Action:\n",
      "{\n",
      "  \"action\": \"final_answer\",\n",
      "  \"action_input\": {\n",
      "    \"answer\": \"Zania, Inc. provides paid vacation to all eligible employees. Vacation granted during the first year of employment is prorated based on the hire date. Employees accrue vacation based on their length of service, with specific amounts designated for each year of employment. Employees are encouraged to use their vacation time and must request it in advance from their Manager. Unused vacation can typically be carried over to the following year, but specific conditions apply depending on the company's policies.\"\n",
      "  }\n",
      "}\u001b[0m\n",
      "\u001b[38;20m===== Extracting action =====\u001b[0m\n",
      "\u001b[33;1mCalling tool: 'final_answer' with arguments: {'answer': \"Zania, Inc. provides paid vacation to all eligible employees. Vacation granted during the first year of employment is prorated based on the hire date. Employees accrue vacation based on their length of service, with specific amounts designated for each year of employment. Employees are encouraged to use their vacation time and must request it in advance from their Manager. Unused vacation can typically be carried over to the following year, but specific conditions apply depending on the company's policies.\"}\u001b[0m\n"
     ]
    },
    {
     "name": "stdout",
     "output_type": "stream",
     "text": [
      "Question: What is their vacation policy?\n",
      "Answer: Zania, Inc. provides paid vacation to all eligible employees. Vacation granted during the first year of employment is prorated based on the hire date. Employees accrue vacation based on their length of service, with specific amounts designated for each year of employment. Employees are encouraged to use their vacation time and must request it in advance from their Manager. Unused vacation can typically be carried over to the following year, but specific conditions apply depending on the company's policies.\n"
     ]
    }
   ],
   "source": [
    "# Example usage\n",
    "question = \"What is their vacation policy?\"\n",
    "answer = run_agentic_rag(question)\n",
    "print(f\"Question: {question}\")\n",
    "print(f\"Answer: {answer}\")"
   ]
  },
  {
   "cell_type": "code",
   "execution_count": 37,
   "metadata": {},
   "outputs": [
    {
     "name": "stdout",
     "output_type": "stream",
     "text": [
      "Question: What is their vacation policy?\n",
      "Answer: Zania, Inc. provides paid vacation to all eligible employees. Vacation granted during the first year of employment is prorated based on the hire date. Employees accrue vacation based on their length of service, with specific amounts designated for each year of employment. Employees are encouraged to use their vacation time and must request it in advance from their Manager. Unused vacation can typically be carried over to the following year, but specific conditions apply depending on the company's policies.\n"
     ]
    }
   ],
   "source": [
    "print(f\"Question: {question}\")\n",
    "print(f\"Answer: {answer}\")"
   ]
  },
  {
   "cell_type": "code",
   "execution_count": null,
   "metadata": {},
   "outputs": [],
   "source": []
  }
 ],
 "metadata": {
  "kernelspec": {
   "display_name": "z-env",
   "language": "python",
   "name": "python3"
  },
  "language_info": {
   "codemirror_mode": {
    "name": "ipython",
    "version": 3
   },
   "file_extension": ".py",
   "mimetype": "text/x-python",
   "name": "python",
   "nbconvert_exporter": "python",
   "pygments_lexer": "ipython3",
   "version": "3.10.12"
  }
 },
 "nbformat": 4,
 "nbformat_minor": 2
}
